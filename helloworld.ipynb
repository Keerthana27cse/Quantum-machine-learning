{
 "cells": [
  {
   "cell_type": "code",
   "execution_count": 1,
   "id": "27650e47-96b3-4923-86da-17e3be48c3b1",
   "metadata": {},
   "outputs": [
    {
     "data": {
      "image/png": "[encoded data removed]",
      "text/plain": [
       "<Figure size 287.294x200.667 with 1 Axes>"
      ]
     },
     "execution_count": 1,
     "metadata": {},
     "output_type": "execute_result"
    }
   ],
   "source": [
    "from qiskit import QuantumCircuit\n",
    "from qiskit.quantum_info import SparsePauliOp\n",
    "from qiskit.transpiler.preset_passmanagers import generate_preset_pass_manager\n",
    "from qiskit_ibm_runtime import QiskitRuntimeService, EstimatorV2 as Estimator\n",
    "qc = QuantumCircuit(2)\n",
    "qc.h(0)\n",
    "qc.cx(0, 1)\n",
    "qc.draw(\"mpl\")\n"
   ]
  },
  {
   "cell_type": "code",
   "execution_count": 2,
   "id": "630434fb-bf40-4f7e-b677-bdfaedd9a66a",
   "metadata": {},
   "outputs": [],
   "source": [
    "# Set up six different observables.\n",
    "observables_labels = [\"ZZ\", \"ZI\", \"IZ\", \"XX\", \"XI\"]\n",
    "observables = [SparsePauliOp(label) for label in observables_labels]"
   ]
  },
  {
   "cell_type": "code",
   "execution_count": 3,
   "id": "4caeb9ac",
   "metadata": {},
   "outputs": [],
   "source": [
    "# If you did not previously save your credentials, use the following line instead:\n",
    "service = QiskitRuntimeService(channel=\"ibm_quantum\", token=\"8547bb879f21e9ed11ae4b2b65c160e42be264a0c1b431106761a1dc05e1d6e7efe44b883dc5f3c2ded862f27827787ac37766efc785b77f8abcfc88b9c9310c\")\n",
    "#service = QiskitRuntimeService()"
   ]
  },
  {
   "cell_type": "code",
   "execution_count": 4,
   "id": "0f53258d-9450-4d9b-8df2-7956a501322b",
   "metadata": {},
   "outputs": [
    {
     "data": {
      "image/png": "[encoded data removed]",
      "text/plain": [
       "<Figure size 287.294x200.667 with 1 Axes>"
      ]
     },
     "execution_count": 4,
     "metadata": {},
     "output_type": "execute_result"
    }
   ],
   "source": [
    "\n",
    " \n",
    "# Use the following code instead if you want to run on a simulator:\n",
    "#from qiskit_ibm_runtime.fake_provider import FakeCairoV2\n",
    "#backend = FakeCairoV2()\n",
    "\n",
    "# Run on the least-busy backend you have access to\n",
    "backend = service.least_busy(simulator=True, operational=True)\n",
    "#backend = service.least_busy(simulator=False, operational=True)  #if you want to run on QPU\n",
    " \n",
    "# Convert to an ISA circuit and layout-mapped observables.\n",
    "pm = generate_preset_pass_manager(backend=backend, optimization_level=0)\n",
    "isa_circuit = pm.run(qc)\n",
    " \n",
    "isa_circuit.draw('mpl', idle_wires=False)"
   ]
  },
  {
   "cell_type": "code",
   "execution_count": 5,
   "id": "83d05cc2-afd9-482d-8601-1d2739348090",
   "metadata": {},
   "outputs": [
    {
     "name": "stderr",
     "output_type": "stream",
     "text": [
      "C:\\Users\\STUDENT.DESKTOP-AG6COQS\\AppData\\Roaming\\Python\\Python311\\site-packages\\qiskit_ibm_runtime\\qiskit_runtime_service.py:879: UserWarning: Cloud simulators have been deprecated and will be removed on 15 May 2024. Use the new local testing mode in qiskit-ibm-runtime version 0.22.0 or later to meet your debugging needs.\n",
      "  warnings.warn(warning_message)\n"
     ]
    }
   ],
   "source": [
    "# Construct the Estimator instance we want to use.\n",
    " \n",
    "estimator = Estimator(backend)\n",
    "estimator.options.resilience_level = 1\n",
    "estimator.options.default_shots = 1000\n",
    " \n",
    "observables = [\n",
    "    observable.apply_layout(isa_circuit.layout) for observable in observables\n",
    "]\n",
    " \n",
    "# One pub, with one circuit to run against five different observables.\n",
    "job = estimator.run([(isa_circuit, observables)])\n",
    " \n",
    "# This is the result of the entire submission.  We submitted one Pub,\n",
    "# so this contains one inner result (and some metadata of its own).\n",
    "job_result = job.result()\n",
    " \n",
    "# This is the result from our single pub, which had five observables,\n",
    "# so contains information on all five.\n",
    "pub_result = job.result()[0]"
   ]
  },
  {
   "cell_type": "code",
   "execution_count": 6,
   "id": "71496b47-6b5e-4f1e-aec1-eae6cb6fbd72",
   "metadata": {},
   "outputs": [
    {
     "name": "stdout",
     "output_type": "stream",
     "text": [
      "PubResult(data=DataBin<5>(evs=[ 1.          0.03515625  0.03515625  1.         -0.00390625], stds=[0.         0.02973308 0.02973308 0.         0.04048909], ensemble_standard_error=[0.         0.03123068 0.03123068 0.         0.03124976]), metadata={'shots': 1024, 'target_precision': 0.03162277660168379, 'circuit_metadata': {}, 'resilience': {'twirled_readout_errors': [[0, 0.0], [1, 0.0]]}, 'num_randomizations': 16})\n",
      "<bound method RuntimeJobV2.result of <RuntimeJobV2('cod11nvimm49f6efk010', 'estimator')>>\n"
     ]
    }
   ],
   "source": [
    "print(pub_result)\n",
    "print(job.result)"
   ]
  },
  {
   "cell_type": "code",
   "execution_count": 7,
   "id": "4ac15e23-a3c3-4d44-9e93-412cc974513c",
   "metadata": {},
   "outputs": [
    {
     "data": {
      "text/plain": [
       "<ErrorbarContainer object of 3 artists>"
      ]
     },
     "execution_count": 7,
     "metadata": {},
     "output_type": "execute_result"
    },
    {
     "data": {
      "image/png": "[encoded data removed]",
      "text/plain": [
       "<Figure size 640x480 with 1 Axes>"
      ]
     },
     "metadata": {},
     "output_type": "display_data"
    }
   ],
   "source": [
    "# Plot the result\n",
    " \n",
    "from matplotlib import pyplot as plt\n",
    " \n",
    "data = observables_labels\n",
    "values = pub_result.data.evs\n",
    " \n",
    "errors = pub_result.data.ensemble_standard_error\n",
    " \n",
    "plt.errorbar(observables_labels, values, yerr=errors, fmt=\"o\")"
   ]
  }
 ],
 "metadata": {
  "kernelspec": {
   "display_name": "Python 3 (ipykernel)",
   "language": "python",
   "name": "python3"
  },
  "language_info": {
   "codemirror_mode": {
    "name": "ipython",
    "version": 3
   },
   "file_extension": ".py",
   "mimetype": "text/x-python",
   "name": "python",
   "nbconvert_exporter": "python",
   "pygments_lexer": "ipython3",
   "version": "3.11.3"
  }
 },
 "nbformat": 4,
 "nbformat_minor": 5
}
