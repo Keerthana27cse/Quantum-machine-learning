{
 "cells": [
  {
   "cell_type": "code",
   "execution_count": 1,
   "metadata": {},
   "outputs": [
    {
     "name": "stdout",
     "output_type": "stream",
     "text": [
      "Defaulting to user installation because normal site-packages is not writeable\n",
      "Collecting pennylane-cirq\n",
      "  Downloading PennyLane_Cirq-0.34.0-py3-none-any.whl (21 kB)\n",
      "Requirement already satisfied: pennylane>=0.29.0 in c:\\users\\student.desktop-ag6coqs\\appdata\\roaming\\python\\python311\\site-packages (from pennylane-cirq) (0.35.1)\n",
      "Collecting cirq-core>=0.10\n",
      "  Downloading cirq_core-1.3.0-py3-none-any.whl (1.8 MB)\n",
      "     ---------------------------------------- 1.8/1.8 MB 3.9 MB/s eta 0:00:00\n",
      "Collecting cirq-pasqal>=0.10\n",
      "  Downloading cirq_pasqal-1.3.0-py3-none-any.whl (31 kB)\n",
      "Collecting duet~=0.2.8\n",
      "  Downloading duet-0.2.9-py3-none-any.whl (29 kB)\n",
      "Requirement already satisfied: matplotlib~=3.0 in c:\\users\\student.desktop-ag6coqs\\appdata\\roaming\\python\\python311\\site-packages (from cirq-core>=0.10->pennylane-cirq) (3.8.4)\n",
      "Requirement already satisfied: networkx>=2.4 in c:\\users\\student.desktop-ag6coqs\\appdata\\roaming\\python\\python311\\site-packages (from cirq-core>=0.10->pennylane-cirq) (3.3)\n",
      "Requirement already satisfied: numpy~=1.16 in c:\\program files\\python311\\lib\\site-packages (from cirq-core>=0.10->pennylane-cirq) (1.25.2)\n",
      "Requirement already satisfied: pandas in c:\\users\\student.desktop-ag6coqs\\appdata\\roaming\\python\\python311\\site-packages (from cirq-core>=0.10->pennylane-cirq) (2.2.2)\n",
      "Collecting sortedcontainers~=2.0\n",
      "  Downloading sortedcontainers-2.4.0-py2.py3-none-any.whl (29 kB)\n",
      "Requirement already satisfied: scipy in c:\\program files\\python311\\lib\\site-packages (from cirq-core>=0.10->pennylane-cirq) (1.11.2)\n",
      "Requirement already satisfied: sympy in c:\\users\\student.desktop-ag6coqs\\appdata\\roaming\\python\\python311\\site-packages (from cirq-core>=0.10->pennylane-cirq) (1.12)\n",
      "Requirement already satisfied: typing-extensions>=4.2 in c:\\users\\student.desktop-ag6coqs\\appdata\\roaming\\python\\python311\\site-packages (from cirq-core>=0.10->pennylane-cirq) (4.11.0)\n",
      "Collecting tqdm\n",
      "  Downloading tqdm-4.66.2-py3-none-any.whl (78 kB)\n",
      "     ---------------------------------------- 78.3/78.3 kB 4.5 MB/s eta 0:00:00\n",
      "Requirement already satisfied: requests~=2.18 in c:\\users\\student.desktop-ag6coqs\\appdata\\roaming\\python\\python311\\site-packages (from cirq-pasqal>=0.10->pennylane-cirq) (2.31.0)\n",
      "Requirement already satisfied: rustworkx in c:\\users\\student.desktop-ag6coqs\\appdata\\roaming\\python\\python311\\site-packages (from pennylane>=0.29.0->pennylane-cirq) (0.14.2)\n",
      "Requirement already satisfied: autograd in c:\\users\\student.desktop-ag6coqs\\appdata\\roaming\\python\\python311\\site-packages (from pennylane>=0.29.0->pennylane-cirq) (1.6.2)\n",
      "Requirement already satisfied: toml in c:\\users\\student.desktop-ag6coqs\\appdata\\roaming\\python\\python311\\site-packages (from pennylane>=0.29.0->pennylane-cirq) (0.10.2)\n",
      "Requirement already satisfied: appdirs in c:\\users\\student.desktop-ag6coqs\\appdata\\roaming\\python\\python311\\site-packages (from pennylane>=0.29.0->pennylane-cirq) (1.4.4)\n",
      "Requirement already satisfied: semantic-version>=2.7 in c:\\users\\student.desktop-ag6coqs\\appdata\\roaming\\python\\python311\\site-packages (from pennylane>=0.29.0->pennylane-cirq) (2.10.0)\n",
      "Requirement already satisfied: autoray>=0.6.1 in c:\\users\\student.desktop-ag6coqs\\appdata\\roaming\\python\\python311\\site-packages (from pennylane>=0.29.0->pennylane-cirq) (0.6.9)\n",
      "Requirement already satisfied: cachetools in c:\\users\\student.desktop-ag6coqs\\appdata\\roaming\\python\\python311\\site-packages (from pennylane>=0.29.0->pennylane-cirq) (5.3.3)\n",
      "Requirement already satisfied: pennylane-lightning>=0.35 in c:\\users\\student.desktop-ag6coqs\\appdata\\roaming\\python\\python311\\site-packages (from pennylane>=0.29.0->pennylane-cirq) (0.35.1)\n",
      "Requirement already satisfied: contourpy>=1.0.1 in c:\\users\\student.desktop-ag6coqs\\appdata\\roaming\\python\\python311\\site-packages (from matplotlib~=3.0->cirq-core>=0.10->pennylane-cirq) (1.2.1)\n",
      "Requirement already satisfied: cycler>=0.10 in c:\\users\\student.desktop-ag6coqs\\appdata\\roaming\\python\\python311\\site-packages (from matplotlib~=3.0->cirq-core>=0.10->pennylane-cirq) (0.12.1)\n",
      "Requirement already satisfied: fonttools>=4.22.0 in c:\\users\\student.desktop-ag6coqs\\appdata\\roaming\\python\\python311\\site-packages (from matplotlib~=3.0->cirq-core>=0.10->pennylane-cirq) (4.51.0)\n",
      "Requirement already satisfied: kiwisolver>=1.3.1 in c:\\users\\student.desktop-ag6coqs\\appdata\\roaming\\python\\python311\\site-packages (from matplotlib~=3.0->cirq-core>=0.10->pennylane-cirq) (1.4.5)\n",
      "Requirement already satisfied: packaging>=20.0 in c:\\users\\student.desktop-ag6coqs\\appdata\\roaming\\python\\python311\\site-packages (from matplotlib~=3.0->cirq-core>=0.10->pennylane-cirq) (24.0)\n",
      "Requirement already satisfied: pillow>=8 in c:\\users\\student.desktop-ag6coqs\\appdata\\roaming\\python\\python311\\site-packages (from matplotlib~=3.0->cirq-core>=0.10->pennylane-cirq) (10.3.0)\n",
      "Requirement already satisfied: pyparsing>=2.3.1 in c:\\users\\student.desktop-ag6coqs\\appdata\\roaming\\python\\python311\\site-packages (from matplotlib~=3.0->cirq-core>=0.10->pennylane-cirq) (3.1.2)\n",
      "Requirement already satisfied: python-dateutil>=2.7 in c:\\users\\student.desktop-ag6coqs\\appdata\\roaming\\python\\python311\\site-packages (from matplotlib~=3.0->cirq-core>=0.10->pennylane-cirq) (2.9.0.post0)\n",
      "Requirement already satisfied: charset-normalizer<4,>=2 in c:\\users\\student.desktop-ag6coqs\\appdata\\roaming\\python\\python311\\site-packages (from requests~=2.18->cirq-pasqal>=0.10->pennylane-cirq) (3.3.2)\n",
      "Requirement already satisfied: idna<4,>=2.5 in c:\\users\\student.desktop-ag6coqs\\appdata\\roaming\\python\\python311\\site-packages (from requests~=2.18->cirq-pasqal>=0.10->pennylane-cirq) (3.7)\n",
      "Requirement already satisfied: urllib3<3,>=1.21.1 in c:\\users\\student.desktop-ag6coqs\\appdata\\roaming\\python\\python311\\site-packages (from requests~=2.18->cirq-pasqal>=0.10->pennylane-cirq) (2.2.1)\n",
      "Requirement already satisfied: certifi>=2017.4.17 in c:\\users\\student.desktop-ag6coqs\\appdata\\roaming\\python\\python311\\site-packages (from requests~=2.18->cirq-pasqal>=0.10->pennylane-cirq) (2024.2.2)\n",
      "Requirement already satisfied: future>=0.15.2 in c:\\users\\student.desktop-ag6coqs\\appdata\\roaming\\python\\python311\\site-packages (from autograd->pennylane>=0.29.0->pennylane-cirq) (1.0.0)\n",
      "Requirement already satisfied: pytz>=2020.1 in c:\\users\\student.desktop-ag6coqs\\appdata\\roaming\\python\\python311\\site-packages (from pandas->cirq-core>=0.10->pennylane-cirq) (2024.1)\n",
      "Requirement already satisfied: tzdata>=2022.7 in c:\\users\\student.desktop-ag6coqs\\appdata\\roaming\\python\\python311\\site-packages (from pandas->cirq-core>=0.10->pennylane-cirq) (2024.1)\n",
      "Requirement already satisfied: mpmath>=0.19 in c:\\users\\student.desktop-ag6coqs\\appdata\\roaming\\python\\python311\\site-packages (from sympy->cirq-core>=0.10->pennylane-cirq) (1.3.0)\n",
      "Requirement already satisfied: colorama in c:\\users\\student.desktop-ag6coqs\\appdata\\roaming\\python\\python311\\site-packages (from tqdm->cirq-core>=0.10->pennylane-cirq) (0.4.6)\n",
      "Requirement already satisfied: six>=1.5 in c:\\users\\student.desktop-ag6coqs\\appdata\\roaming\\python\\python311\\site-packages (from python-dateutil>=2.7->matplotlib~=3.0->cirq-core>=0.10->pennylane-cirq) (1.16.0)\n",
      "Installing collected packages: sortedcontainers, tqdm, duet, cirq-core, cirq-pasqal, pennylane-cirq\n",
      "Successfully installed cirq-core-1.3.0 cirq-pasqal-1.3.0 duet-0.2.9 pennylane-cirq-0.34.0 sortedcontainers-2.4.0 tqdm-4.66.2\n",
      "Note: you may need to restart the kernel to use updated packages.\n"
     ]
    },
    {
     "name": "stderr",
     "output_type": "stream",
     "text": [
      "\n",
      "[notice] A new release of pip available: 22.3.1 -> 24.0\n",
      "[notice] To update, run: python.exe -m pip install --upgrade pip\n"
     ]
    }
   ],
   "source": [
    " pip install pennylane-cirq"
   ]
  },
  {
   "cell_type": "code",
   "execution_count": 2,
   "metadata": {
    "collapsed": false,
    "jupyter": {
     "outputs_hidden": false
    }
   },
   "outputs": [],
   "source": [
    "# This cell is added by sphinx-gallery\n",
    "# It can be customized to whatever you like\n",
    "%matplotlib inline"
   ]
  },
  {
   "cell_type": "code",
   "execution_count": 3,
   "metadata": {
    "collapsed": false,
    "jupyter": {
     "outputs_hidden": false
    }
   },
   "outputs": [],
   "source": [
    "import numpy as np\n",
    "import pennylane as qml\n",
    "import tensorflow as tf"
   ]
  },
  {
   "cell_type": "code",
   "execution_count": 4,
   "metadata": {
    "collapsed": false,
    "jupyter": {
     "outputs_hidden": false
    }
   },
   "outputs": [],
   "source": [
    "dev = qml.device('cirq.simulator', wires=3)"
   ]
  },
  {
   "cell_type": "code",
   "execution_count": 5,
   "metadata": {
    "collapsed": false,
    "jupyter": {
     "outputs_hidden": false
    }
   },
   "outputs": [],
   "source": [
    "def real(angles, **kwargs):\n",
    "    qml.Hadamard(wires=0)\n",
    "    qml.Rot(*angles, wires=0)"
   ]
  },
  {
   "cell_type": "code",
   "execution_count": 6,
   "metadata": {
    "collapsed": false,
    "jupyter": {
     "outputs_hidden": false
    }
   },
   "outputs": [],
   "source": [
    "def generator(w, **kwargs):\n",
    "    qml.Hadamard(wires=0)\n",
    "    qml.RX(w[0], wires=0)\n",
    "    qml.RX(w[1], wires=1)\n",
    "    qml.RY(w[2], wires=0)\n",
    "    qml.RY(w[3], wires=1)\n",
    "    qml.RZ(w[4], wires=0)\n",
    "    qml.RZ(w[5], wires=1)\n",
    "    qml.CNOT(wires=[0, 1])\n",
    "    qml.RX(w[6], wires=0)\n",
    "    qml.RY(w[7], wires=0)\n",
    "    qml.RZ(w[8], wires=0)\n",
    "\n",
    "\n",
    "def discriminator(w):\n",
    "    qml.Hadamard(wires=0)\n",
    "    qml.RX(w[0], wires=0)\n",
    "    qml.RX(w[1], wires=2)\n",
    "    qml.RY(w[2], wires=0)\n",
    "    qml.RY(w[3], wires=2)\n",
    "    qml.RZ(w[4], wires=0)\n",
    "    qml.RZ(w[5], wires=2)\n",
    "    qml.CNOT(wires=[0, 2])\n",
    "    qml.RX(w[6], wires=2)\n",
    "    qml.RY(w[7], wires=2)\n",
    "    qml.RZ(w[8], wires=2)"
   ]
  },
  {
   "cell_type": "code",
   "execution_count": 7,
   "metadata": {
    "collapsed": false,
    "jupyter": {
     "outputs_hidden": false
    }
   },
   "outputs": [],
   "source": [
    "@qml.qnode(dev)\n",
    "def real_disc_circuit(phi, theta, omega, disc_weights):\n",
    "    real([phi, theta, omega])\n",
    "    discriminator(disc_weights)\n",
    "    return qml.expval(qml.PauliZ(2))\n",
    "\n",
    "\n",
    "@qml.qnode(dev)\n",
    "def gen_disc_circuit(gen_weights, disc_weights):\n",
    "    generator(gen_weights)\n",
    "    discriminator(disc_weights)\n",
    "    return qml.expval(qml.PauliZ(2))"
   ]
  },
  {
   "cell_type": "code",
   "execution_count": 9,
   "metadata": {
    "collapsed": false,
    "jupyter": {
     "outputs_hidden": false
    }
   },
   "outputs": [],
   "source": [
    "def prob_real_true(disc_weights):\n",
    "    true_disc_output = real_disc_circuit(phi, theta, omega, disc_weights)\n",
    "    # convert to probability\n",
    "    prob_real_true = (true_disc_output + 1) / 2\n",
    "    return prob_real_true\n",
    "\n",
    "\n",
    "def prob_fake_true(gen_weights, disc_weights):\n",
    "    fake_disc_output = gen_disc_circuit(gen_weights, disc_weights)\n",
    "    # convert to probability\n",
    "    prob_fake_true = (fake_disc_output + 1) / 2\n",
    "    return prob_fake_true\n",
    "\n",
    "\n",
    "def disc_cost(disc_weights):\n",
    "    cost = prob_fake_true(gen_weights, disc_weights) - prob_real_true(disc_weights)\n",
    "    return cost\n",
    "\n",
    "\n",
    "def gen_cost(gen_weights):\n",
    "    return -prob_fake_true(gen_weights, disc_weights)"
   ]
  },
  {
   "cell_type": "code",
   "execution_count": 10,
   "metadata": {
    "collapsed": false,
    "jupyter": {
     "outputs_hidden": false
    }
   },
   "outputs": [],
   "source": [
    "phi = np.pi / 6\n",
    "theta = np.pi / 2\n",
    "omega = np.pi / 7\n",
    "np.random.seed(0)\n",
    "eps = 1e-2\n",
    "init_gen_weights = np.array([np.pi] + [0] * 8) + \\\n",
    "                   np.random.normal(scale=eps, size=(9,))\n",
    "init_disc_weights = np.random.normal(size=(9,))\n",
    "\n",
    "gen_weights = tf.Variable(init_gen_weights)\n",
    "disc_weights = tf.Variable(init_disc_weights)"
   ]
  },
  {
   "cell_type": "code",
   "execution_count": 11,
   "metadata": {
    "collapsed": false,
    "jupyter": {
     "outputs_hidden": false
    }
   },
   "outputs": [],
   "source": [
    "opt = tf.keras.optimizers.SGD(0.4)\n",
    "opt.build([disc_weights, gen_weights])"
   ]
  },
  {
   "cell_type": "code",
   "execution_count": 16,
   "metadata": {},
   "outputs": [
    {
     "name": "stdout",
     "output_type": "stream",
     "text": [
      "Package                      Version"
     ]
    },
    {
     "name": "stderr",
     "output_type": "stream",
     "text": [
      "\n",
      "[notice] A new release of pip available: 22.3.1 -> 24.0\n",
      "[notice] To update, run: python.exe -m pip install --upgrade pip\n"
     ]
    },
    {
     "name": "stdout",
     "output_type": "stream",
     "text": [
      "\n",
      "---------------------------- --------------\n",
      "absl-py                      2.1.0\n",
      "annotated-types              0.6.0\n",
      "anyio                        4.3.0\n",
      "appdirs                      1.4.4\n",
      "argon2-cffi                  23.1.0\n",
      "argon2-cffi-bindings         21.2.0\n",
      "arrow                        1.3.0\n",
      "asttokens                    2.4.1\n",
      "astunparse                   1.6.3\n",
      "async-lru                    2.0.4\n",
      "attrs                        23.2.0\n",
      "autograd                     1.6.2\n",
      "autoray                      0.6.9\n",
      "Babel                        2.14.0\n",
      "beautifulsoup4               4.12.3\n",
      "bleach                       6.1.0\n",
      "cachetools                   5.3.3\n",
      "certifi                      2024.2.2\n",
      "cffi                         1.16.0\n",
      "charset-normalizer           3.3.2\n",
      "cirq-core                    1.3.0\n",
      "cirq-pasqal                  1.3.0\n",
      "colorama                     0.4.6\n",
      "comm                         0.2.2\n",
      "contourpy                    1.2.1\n",
      "cryptography                 42.0.5\n",
      "cycler                       0.12.1\n",
      "debugpy                      1.8.1\n",
      "decorator                    5.1.1\n",
      "defusedxml                   0.7.1\n",
      "dill                         0.3.8\n",
      "duet                         0.2.9\n",
      "executing                    2.0.1\n",
      "fastdtw                      0.3.4\n",
      "fastjsonschema               2.19.1\n",
      "flatbuffers                  24.3.25\n",
      "fonttools                    4.51.0\n",
      "fqdn                         1.5.1\n",
      "future                       1.0.0\n",
      "gast                         0.5.4\n",
      "google-pasta                 0.2.0\n",
      "grpcio                       1.62.1\n",
      "h11                          0.14.0\n",
      "h5py                         3.11.0\n",
      "httpcore                     1.0.5\n",
      "httpx                        0.27.0\n",
      "ibm-cloud-sdk-core           3.19.2\n",
      "ibm-platform-services        0.53.2\n",
      "idna                         3.7\n",
      "ipykernel                    6.29.4\n",
      "ipython                      8.23.0\n",
      "ipywidgets                   8.1.2\n",
      "isoduration                  20.11.0\n",
      "jedi                         0.19.1\n",
      "Jinja2                       3.1.3\n",
      "joblib                       1.3.2\n",
      "json5                        0.9.24\n",
      "jsonpointer                  2.4\n",
      "jsonschema                   4.21.1\n",
      "jsonschema-specifications    2023.12.1\n",
      "jupyter                      1.0.0\n",
      "jupyter_client               8.6.1\n",
      "jupyter-console              6.6.3\n",
      "jupyter_core                 5.7.2\n",
      "jupyter-events               0.10.0\n",
      "jupyter-lsp                  2.2.5\n",
      "jupyter_server               2.14.0\n",
      "jupyter_server_terminals     0.5.3\n",
      "jupyterlab                   4.1.6\n",
      "jupyterlab_pygments          0.3.0\n",
      "jupyterlab_server            2.26.0\n",
      "jupyterlab_widgets           3.0.10\n",
      "keras                        3.2.1\n",
      "kiwisolver                   1.4.5\n",
      "libclang                     18.1.1\n",
      "Markdown                     3.6\n",
      "markdown-it-py               3.0.0\n",
      "MarkupSafe                   2.1.5\n",
      "matplotlib                   3.8.4\n",
      "matplotlib-inline            0.1.6\n",
      "mdurl                        0.1.2\n",
      "mistune                      3.0.2\n",
      "ml-dtypes                    0.3.2\n",
      "mpmath                       1.3.0\n",
      "namex                        0.0.7\n",
      "nbclient                     0.10.0\n",
      "nbconvert                    7.16.3\n",
      "nbformat                     5.10.4\n",
      "nest-asyncio                 1.6.0\n",
      "networkx                     3.3\n",
      "notebook                     7.1.2\n",
      "notebook_shim                0.2.4\n",
      "numpy                        1.25.2\n",
      "opencv-python                4.9.0.80\n",
      "opt-einsum                   3.3.0\n",
      "optree                       0.11.0\n",
      "overrides                    7.7.0\n",
      "packaging                    24.0\n",
      "pandas                       2.2.2\n",
      "pandocfilters                1.5.1\n",
      "parso                        0.8.4\n",
      "pbr                          6.0.0\n",
      "PennyLane                    0.35.1\n",
      "PennyLane-Cirq               0.34.0\n",
      "PennyLane_Lightning          0.35.1\n",
      "pillow                       10.3.0\n",
      "pip                          22.3.1\n",
      "platformdirs                 4.2.0\n",
      "prometheus_client            0.20.0\n",
      "prompt-toolkit               3.0.43\n",
      "protobuf                     4.25.3\n",
      "psutil                       5.9.8\n",
      "pure-eval                    0.2.2\n",
      "pycparser                    2.22\n",
      "pydantic                     2.7.0\n",
      "pydantic_core                2.18.1\n",
      "pydot                        2.0.0\n",
      "Pygments                     2.17.2\n",
      "PyJWT                        2.8.0\n",
      "pylatexenc                   2.10\n",
      "pyparsing                    3.1.2\n",
      "pyspnego                     0.10.2\n",
      "python-dateutil              2.9.0.post0\n",
      "python-json-logger           2.0.7\n",
      "pytz                         2024.1\n",
      "pywin32                      306\n",
      "pywinpty                     2.0.13\n",
      "PyYAML                       6.0.1\n",
      "pyzmq                        25.1.2\n",
      "qiskit                       1.0.2\n",
      "qiskit-algorithms            0.3.0\n",
      "qiskit-ibm-runtime           0.22.0\n",
      "qiskit-machine-learning      0.7.2\n",
      "qtconsole                    5.5.1\n",
      "QtPy                         2.4.1\n",
      "referencing                  0.34.0\n",
      "requests                     2.31.0\n",
      "requests-ntlm                1.2.0\n",
      "rfc3339-validator            0.1.4\n",
      "rfc3986-validator            0.1.1\n",
      "rich                         13.7.1\n",
      "rpds-py                      0.18.0\n",
      "rustworkx                    0.14.2\n",
      "scikit-learn                 1.4.2\n",
      "scipy                        1.11.2\n",
      "seaborn                      0.13.2\n",
      "semantic-version             2.10.0\n",
      "Send2Trash                   1.8.3\n",
      "setuptools                   65.5.0\n",
      "six                          1.16.0\n",
      "sniffio                      1.3.1\n",
      "sortedcontainers             2.4.0\n",
      "soupsieve                    2.5\n",
      "sspilib                      0.1.0\n",
      "stack-data                   0.6.3\n",
      "stevedore                    5.2.0\n",
      "symengine                    0.11.0\n",
      "sympy                        1.12\n",
      "tensorboard                  2.16.2\n",
      "tensorboard-data-server      0.7.2\n",
      "tensorflow                   2.16.1\n",
      "tensorflow-intel             2.16.1\n",
      "tensorflow-io-gcs-filesystem 0.31.0\n",
      "termcolor                    2.4.0\n",
      "terminado                    0.18.1\n",
      "threadpoolctl                3.2.0\n",
      "tinycss2                     1.2.1\n",
      "toml                         0.10.2\n",
      "tornado                      6.4\n",
      "tqdm                         4.66.2\n",
      "traitlets                    5.14.2\n",
      "types-python-dateutil        2.9.0.20240316\n",
      "typing_extensions            4.11.0\n",
      "tzdata                       2024.1\n",
      "uri-template                 1.3.0\n",
      "urllib3                      2.2.1\n",
      "vboxapi                      1.0\n",
      "vboxapi                      1.0\n",
      "vboxapi                      1.0\n",
      "wcwidth                      0.2.13\n",
      "webcolors                    1.13\n",
      "webencodings                 0.5.1\n",
      "websocket-client             1.7.0\n",
      "Werkzeug                     3.0.2\n",
      "wheel                        0.43.0\n",
      "widgetsnbextension           4.0.10\n",
      "wrapt                        1.16.0\n"
     ]
    }
   ],
   "source": [
    "!pip list"
   ]
  },
  {
   "cell_type": "code",
   "execution_count": 31,
   "metadata": {
    "collapsed": false,
    "jupyter": {
     "outputs_hidden": false
    }
   },
   "outputs": [
    {
     "ename": "AttributeError",
     "evalue": "'SGD' object has no attribute 'minimize'",
     "output_type": "error",
     "traceback": [
      "\u001b[1;31m---------------------------------------------------------------------------\u001b[0m",
      "\u001b[1;31mAttributeError\u001b[0m                            Traceback (most recent call last)",
      "Cell \u001b[1;32mIn[31], line 4\u001b[0m\n\u001b[0;32m      1\u001b[0m cost \u001b[38;5;241m=\u001b[39m \u001b[38;5;28;01mlambda\u001b[39;00m: disc_cost(disc_weights)\n\u001b[0;32m      3\u001b[0m \u001b[38;5;28;01mfor\u001b[39;00m step \u001b[38;5;129;01min\u001b[39;00m \u001b[38;5;28mrange\u001b[39m(\u001b[38;5;241m50\u001b[39m):\n\u001b[1;32m----> 4\u001b[0m     \u001b[43mopt\u001b[49m\u001b[38;5;241;43m.\u001b[39;49m\u001b[43mminimize\u001b[49m(cost, [disc_weights])\n\u001b[0;32m      5\u001b[0m     \u001b[38;5;28;01mif\u001b[39;00m step \u001b[38;5;241m%\u001b[39m \u001b[38;5;241m5\u001b[39m \u001b[38;5;241m==\u001b[39m \u001b[38;5;241m0\u001b[39m:\n\u001b[0;32m      6\u001b[0m         cost_val \u001b[38;5;241m=\u001b[39m cost()\u001b[38;5;241m.\u001b[39mnumpy()\n",
      "\u001b[1;31mAttributeError\u001b[0m: 'SGD' object has no attribute 'minimize'"
     ]
    }
   ],
   "source": [
    "cost = lambda: disc_cost(disc_weights)\n",
    "\n",
    "for step in range(50):\n",
    "    opt.minimize(cost, [disc_weights])\n",
    "    if step % 5 == 0:\n",
    "        cost_val = cost().numpy()\n",
    "        print(\"Step {}: cost = {}\".format(step, cost_val))"
   ]
  },
  {
   "cell_type": "code",
   "execution_count": 29,
   "metadata": {},
   "outputs": [
    {
     "name": "stdout",
     "output_type": "stream",
     "text": [
      "Defaulting to user installation because normal site-packages is not writeable\n",
      "Collecting pytorch\n",
      "  Downloading pytorch-1.0.2.tar.gz (689 bytes)\n",
      "  Preparing metadata (setup.py): started\n",
      "  Preparing metadata (setup.py): finished with status 'done'\n",
      "Building wheels for collected packages: pytorch\n",
      "  Building wheel for pytorch (setup.py): started\n",
      "  Building wheel for pytorch (setup.py): finished with status 'error'\n",
      "  Running setup.py clean for pytorch\n",
      "Failed to build pytorch\n",
      "Installing collected packages: pytorch\n",
      "  Running setup.py install for pytorch: started\n",
      "  Running setup.py install for pytorch: finished with status 'error'\n",
      "Note: you may need to restart the kernel to use updated packages.\n"
     ]
    },
    {
     "name": "stderr",
     "output_type": "stream",
     "text": [
      "  error: subprocess-exited-with-error\n",
      "  \n",
      "  × python setup.py bdist_wheel did not run successfully.\n",
      "  │ exit code: 1\n",
      "  ╰─> [6 lines of output]\n",
      "      Traceback (most recent call last):\n",
      "        File \"<string>\", line 2, in <module>\n",
      "        File \"<pip-setuptools-caller>\", line 34, in <module>\n",
      "        File \"C:\\Users\\STUDENT.DESKTOP-AG6COQS\\AppData\\Local\\Temp\\pip-install-yfou4kav\\pytorch_a61267720d1b4f27aad8db8e1f352798\\setup.py\", line 15, in <module>\n",
      "          raise Exception(message)\n",
      "      Exception: You tried to install \"pytorch\". The package named for PyTorch is \"torch\"\n",
      "      [end of output]\n",
      "  \n",
      "  note: This error originates from a subprocess, and is likely not a problem with pip.\n",
      "  ERROR: Failed building wheel for pytorch\n",
      "  error: subprocess-exited-with-error\n",
      "  \n",
      "  × Running setup.py install for pytorch did not run successfully.\n",
      "  │ exit code: 1\n",
      "  ╰─> [6 lines of output]\n",
      "      Traceback (most recent call last):\n",
      "        File \"<string>\", line 2, in <module>\n",
      "        File \"<pip-setuptools-caller>\", line 34, in <module>\n",
      "        File \"C:\\Users\\STUDENT.DESKTOP-AG6COQS\\AppData\\Local\\Temp\\pip-install-yfou4kav\\pytorch_a61267720d1b4f27aad8db8e1f352798\\setup.py\", line 11, in <module>\n",
      "          raise Exception(message)\n",
      "      Exception: You tried to install \"pytorch\". The package named for PyTorch is \"torch\"\n",
      "      [end of output]\n",
      "  \n",
      "  note: This error originates from a subprocess, and is likely not a problem with pip.\n",
      "error: legacy-install-failure\n",
      "\n",
      "× Encountered error while trying to install package.\n",
      "╰─> pytorch\n",
      "\n",
      "note: This is an issue with the package mentioned above, not pip.\n",
      "hint: See above for output from the failure.\n",
      "\n",
      "[notice] A new release of pip available: 22.3.1 -> 24.0\n",
      "[notice] To update, run: python.exe -m pip install --upgrade pip\n"
     ]
    }
   ],
   "source": [
    "pip install pytorch\n"
   ]
  },
  {
   "cell_type": "code",
   "execution_count": 30,
   "metadata": {},
   "outputs": [
    {
     "ename": "ModuleNotFoundError",
     "evalue": "No module named 'torch'",
     "output_type": "error",
     "traceback": [
      "\u001b[1;31m---------------------------------------------------------------------------\u001b[0m",
      "\u001b[1;31mModuleNotFoundError\u001b[0m                       Traceback (most recent call last)",
      "Cell \u001b[1;32mIn[30], line 1\u001b[0m\n\u001b[1;32m----> 1\u001b[0m \u001b[38;5;28;01mimport\u001b[39;00m \u001b[38;5;21;01mtorch\u001b[39;00m\u001b[38;5;21;01m.\u001b[39;00m\u001b[38;5;21;01moptim\u001b[39;00m \u001b[38;5;28;01mas\u001b[39;00m \u001b[38;5;21;01moptim\u001b[39;00m\n\u001b[0;32m      3\u001b[0m \u001b[38;5;66;03m# Assuming you've defined your optimizer object 'opt' somewhere\u001b[39;00m\n\u001b[0;32m      5\u001b[0m cost \u001b[38;5;241m=\u001b[39m \u001b[38;5;28;01mlambda\u001b[39;00m: disc_cost(disc_weights)\n",
      "\u001b[1;31mModuleNotFoundError\u001b[0m: No module named 'torch'"
     ]
    }
   ],
   "source": [
    "\n",
    "\n",
    "import torch.optim as optim\n",
    "\n",
    "# Assuming you've defined your optimizer object 'opt' somewhere\n",
    "\n",
    "cost = lambda: disc_cost(disc_weights)\n",
    "\n",
    "for step in range(50):\n",
    "    opt.zero_grad()\n",
    "    loss = cost()\n",
    "    loss.backward()\n",
    "    opt.step()\n",
    "    if step % 5 == 0:\n",
    "        cost_val = cost().detach().numpy()\n",
    "        print(\"Step {}: cost = {}\".format(step, cost_val))\n"
   ]
  },
  {
   "cell_type": "code",
   "execution_count": 19,
   "metadata": {},
   "outputs": [
    {
     "name": "stdout",
     "output_type": "stream",
     "text": [
      "2.16.1\n"
     ]
    },
    {
     "ename": "AttributeError",
     "evalue": "'SGD' object has no attribute 'minimize'",
     "output_type": "error",
     "traceback": [
      "\u001b[1;31m---------------------------------------------------------------------------\u001b[0m",
      "\u001b[1;31mAttributeError\u001b[0m                            Traceback (most recent call last)",
      "Cell \u001b[1;32mIn[19], line 12\u001b[0m\n\u001b[0;32m     10\u001b[0m loss \u001b[38;5;241m=\u001b[39m \u001b[38;5;28;01mlambda\u001b[39;00m: \u001b[38;5;241m3\u001b[39m \u001b[38;5;241m*\u001b[39m var1 \u001b[38;5;241m*\u001b[39m var1 \u001b[38;5;241m+\u001b[39m \u001b[38;5;241m2\u001b[39m \u001b[38;5;241m*\u001b[39m var2 \u001b[38;5;241m*\u001b[39m var2\n\u001b[0;32m     11\u001b[0m \u001b[38;5;66;03m# Call minimize to update the list of variables.\u001b[39;00m\n\u001b[1;32m---> 12\u001b[0m \u001b[43mopt\u001b[49m\u001b[38;5;241;43m.\u001b[39;49m\u001b[43mminimize\u001b[49m(loss, var_list\u001b[38;5;241m=\u001b[39m[var1, var2])\n",
      "\u001b[1;31mAttributeError\u001b[0m: 'SGD' object has no attribute 'minimize'"
     ]
    }
   ],
   "source": [
    "\n",
    "\n",
    "import tensorflow as tf\n",
    "\n",
    "print(tf.__version__)\n",
    "\n",
    "# Create an optimizer with the desired parameters.\n",
    "opt = tf.keras.optimizers.SGD(learning_rate=0.4)\n",
    "var1, var2 = tf.Variable(1.0), tf.Variable(2.0)\n",
    "# `loss` is a callable that takes no argument and returns the value\n",
    "# to minimize.\n",
    "loss = lambda: 3 * var1 * var1 + 2 * var2 * var2\n",
    "# Call minimize to update the list of variables.\n",
    "opt.minimize(loss, var_list=[var1, var2])"
   ]
  },
  {
   "cell_type": "code",
   "execution_count": 22,
   "metadata": {
    "collapsed": false,
    "jupyter": {
     "outputs_hidden": false
    }
   },
   "outputs": [
    {
     "name": "stdout",
     "output_type": "stream",
     "text": [
      "Prob(real classified as real):  0.18482935428619385\n"
     ]
    }
   ],
   "source": [
    "print(\"Prob(real classified as real): \", prob_real_true(disc_weights).numpy())"
   ]
  },
  {
   "cell_type": "code",
   "execution_count": 23,
   "metadata": {
    "collapsed": false,
    "jupyter": {
     "outputs_hidden": false
    }
   },
   "outputs": [
    {
     "name": "stdout",
     "output_type": "stream",
     "text": [
      "Prob(fake classified as real):  0.1623162031173706\n"
     ]
    }
   ],
   "source": [
    "print(\"Prob(fake classified as real): \", prob_fake_true(gen_weights, disc_weights).numpy())"
   ]
  },
  {
   "cell_type": "code",
   "execution_count": 24,
   "metadata": {
    "collapsed": false,
    "jupyter": {
     "outputs_hidden": false
    }
   },
   "outputs": [
    {
     "ename": "AttributeError",
     "evalue": "'SGD' object has no attribute 'minimize'",
     "output_type": "error",
     "traceback": [
      "\u001b[1;31m---------------------------------------------------------------------------\u001b[0m",
      "\u001b[1;31mAttributeError\u001b[0m                            Traceback (most recent call last)",
      "Cell \u001b[1;32mIn[24], line 4\u001b[0m\n\u001b[0;32m      1\u001b[0m cost \u001b[38;5;241m=\u001b[39m \u001b[38;5;28;01mlambda\u001b[39;00m: gen_cost(gen_weights)\n\u001b[0;32m      3\u001b[0m \u001b[38;5;28;01mfor\u001b[39;00m step \u001b[38;5;129;01min\u001b[39;00m \u001b[38;5;28mrange\u001b[39m(\u001b[38;5;241m50\u001b[39m):\n\u001b[1;32m----> 4\u001b[0m     \u001b[43mopt\u001b[49m\u001b[38;5;241;43m.\u001b[39;49m\u001b[43mminimize\u001b[49m(cost, [gen_weights])\n\u001b[0;32m      5\u001b[0m     \u001b[38;5;28;01mif\u001b[39;00m step \u001b[38;5;241m%\u001b[39m \u001b[38;5;241m5\u001b[39m \u001b[38;5;241m==\u001b[39m \u001b[38;5;241m0\u001b[39m:\n\u001b[0;32m      6\u001b[0m         cost_val \u001b[38;5;241m=\u001b[39m cost()\u001b[38;5;241m.\u001b[39mnumpy()\n",
      "\u001b[1;31mAttributeError\u001b[0m: 'SGD' object has no attribute 'minimize'"
     ]
    }
   ],
   "source": [
    "cost = lambda: gen_cost(gen_weights)\n",
    "\n",
    "for step in range(50):\n",
    "    opt.minimize(cost, [gen_weights])\n",
    "    if step % 5 == 0:\n",
    "        cost_val = cost().numpy()\n",
    "        print(\"Step {}: cost = {}\".format(step, cost_val))"
   ]
  },
  {
   "cell_type": "code",
   "execution_count": 25,
   "metadata": {
    "collapsed": false,
    "jupyter": {
     "outputs_hidden": false
    }
   },
   "outputs": [
    {
     "name": "stdout",
     "output_type": "stream",
     "text": [
      "Prob(fake classified as real):  0.1623162031173706\n"
     ]
    }
   ],
   "source": [
    "print(\"Prob(fake classified as real): \", prob_fake_true(gen_weights, disc_weights).numpy())"
   ]
  },
  {
   "cell_type": "code",
   "execution_count": 26,
   "metadata": {
    "collapsed": false,
    "jupyter": {
     "outputs_hidden": false
    }
   },
   "outputs": [
    {
     "name": "stdout",
     "output_type": "stream",
     "text": [
      "Discriminator cost:  -0.022513151168823242\n"
     ]
    }
   ],
   "source": [
    "print(\"Discriminator cost: \", disc_cost(disc_weights).numpy())"
   ]
  },
  {
   "cell_type": "code",
   "execution_count": 27,
   "metadata": {
    "collapsed": false,
    "jupyter": {
     "outputs_hidden": false
    }
   },
   "outputs": [
    {
     "name": "stdout",
     "output_type": "stream",
     "text": [
      "Real Bloch vector: [array(-0.21694186), array(0.45048445), array(-0.86602533)]\n",
      "Generator Bloch vector: [<tf.Tensor: shape=(), dtype=float64, numpy=0.022377027198672295>, <tf.Tensor: shape=(), dtype=float64, numpy=0.0004875379672739655>, <tf.Tensor: shape=(), dtype=float64, numpy=-0.00974904652684927>]\n"
     ]
    }
   ],
   "source": [
    "obs = [qml.PauliX(0), qml.PauliY(0), qml.PauliZ(0)]\n",
    "\n",
    "@qml.qnode(dev)\n",
    "def bloch_vector_real(angles):\n",
    "    real(angles)\n",
    "    return [qml.expval(o) for o in obs]\n",
    "\n",
    "@qml.qnode(dev)\n",
    "def bloch_vector_generator(angles):\n",
    "    generator(angles)\n",
    "    return [qml.expval(o) for o in obs]\n",
    "\n",
    "print(f\"Real Bloch vector: {bloch_vector_real([phi, theta, omega])}\")\n",
    "print(f\"Generator Bloch vector: {bloch_vector_generator(gen_weights)}\")"
   ]
  },
  {
   "cell_type": "code",
   "execution_count": null,
   "metadata": {},
   "outputs": [],
   "source": []
  }
 ],
 "metadata": {
  "kernelspec": {
   "display_name": "Python 3 (ipykernel)",
   "language": "python",
   "name": "python3"
  },
  "language_info": {
   "codemirror_mode": {
    "name": "ipython",
    "version": 3
   },
   "file_extension": ".py",
   "mimetype": "text/x-python",
   "name": "python",
   "nbconvert_exporter": "python",
   "pygments_lexer": "ipython3",
   "version": "3.11.3"
  }
 },
 "nbformat": 4,
 "nbformat_minor": 4
}
