{
 "cells": [
  {
   "cell_type": "code",
   "execution_count": 1,
   "id": "c8ea0955-a340-4fbf-92e6-a5a0abd675b5",
   "metadata": {},
   "outputs": [
    {
     "name": "stdout",
     "output_type": "stream",
     "text": [
      "Defaulting to user installation because normal site-packages is not writeable\n",
      "Requirement already satisfied: scikit-learn in c:\\users\\student.desktop-ag6coqs\\appdata\\roaming\\python\\python311\\site-packages (1.4.2)\n",
      "Requirement already satisfied: numpy>=1.19.5 in c:\\program files\\python311\\lib\\site-packages (from scikit-learn) (1.25.2)\n",
      "Requirement already satisfied: scipy>=1.6.0 in c:\\program files\\python311\\lib\\site-packages (from scikit-learn) (1.11.2)\n",
      "Requirement already satisfied: joblib>=1.2.0 in c:\\program files\\python311\\lib\\site-packages (from scikit-learn) (1.3.2)\n",
      "Requirement already satisfied: threadpoolctl>=2.0.0 in c:\\program files\\python311\\lib\\site-packages (from scikit-learn) (3.2.0)\n",
      "Note: you may need to restart the kernel to use updated packages.\n"
     ]
    },
    {
     "name": "stderr",
     "output_type": "stream",
     "text": [
      "\n",
      "[notice] A new release of pip available: 22.3.1 -> 24.0\n",
      "[notice] To update, run: python.exe -m pip install --upgrade pip\n"
     ]
    }
   ],
   "source": [
    "pip install -U scikit-learn"
   ]
  },
  {
   "cell_type": "code",
   "execution_count": 2,
   "id": "266ab5c4-3399-4f47-bf16-17f87f3cfa66",
   "metadata": {},
   "outputs": [
    {
     "name": "stdout",
     "output_type": "stream",
     "text": [
      "Defaulting to user installation because normal site-packages is not writeable\n",
      "Requirement already satisfied: qiskit_algorithms in c:\\users\\student.desktop-ag6coqs\\appdata\\roaming\\python\\python311\\site-packages (0.3.0)\n",
      "Requirement already satisfied: qiskit>=0.44 in c:\\users\\student.desktop-ag6coqs\\appdata\\roaming\\python\\python311\\site-packages (from qiskit_algorithms) (1.0.2)\n",
      "Requirement already satisfied: scipy>=1.4 in c:\\program files\\python311\\lib\\site-packages (from qiskit_algorithms) (1.11.2)\n",
      "Requirement already satisfied: numpy>=1.17 in c:\\program files\\python311\\lib\\site-packages (from qiskit_algorithms) (1.25.2)\n",
      "Requirement already satisfied: rustworkx>=0.14.0 in c:\\users\\student.desktop-ag6coqs\\appdata\\roaming\\python\\python311\\site-packages (from qiskit>=0.44->qiskit_algorithms) (0.14.2)\n",
      "Requirement already satisfied: sympy>=1.3 in c:\\users\\student.desktop-ag6coqs\\appdata\\roaming\\python\\python311\\site-packages (from qiskit>=0.44->qiskit_algorithms) (1.12)\n",
      "Requirement already satisfied: dill>=0.3 in c:\\users\\student.desktop-ag6coqs\\appdata\\roaming\\python\\python311\\site-packages (from qiskit>=0.44->qiskit_algorithms) (0.3.8)\n",
      "Requirement already satisfied: python-dateutil>=2.8.0 in c:\\users\\student.desktop-ag6coqs\\appdata\\roaming\\python\\python311\\site-packages (from qiskit>=0.44->qiskit_algorithms) (2.9.0.post0)\n",
      "Requirement already satisfied: stevedore>=3.0.0 in c:\\users\\student.desktop-ag6coqs\\appdata\\roaming\\python\\python311\\site-packages (from qiskit>=0.44->qiskit_algorithms) (5.2.0)\n",
      "Requirement already satisfied: typing-extensions in c:\\users\\student.desktop-ag6coqs\\appdata\\roaming\\python\\python311\\site-packages (from qiskit>=0.44->qiskit_algorithms) (4.11.0)\n",
      "Requirement already satisfied: symengine>=0.11 in c:\\users\\student.desktop-ag6coqs\\appdata\\roaming\\python\\python311\\site-packages (from qiskit>=0.44->qiskit_algorithms) (0.11.0)\n",
      "Requirement already satisfied: six>=1.5 in c:\\users\\student.desktop-ag6coqs\\appdata\\roaming\\python\\python311\\site-packages (from python-dateutil>=2.8.0->qiskit>=0.44->qiskit_algorithms) (1.16.0)\n",
      "Requirement already satisfied: pbr!=2.1.0,>=2.0.0 in c:\\users\\student.desktop-ag6coqs\\appdata\\roaming\\python\\python311\\site-packages (from stevedore>=3.0.0->qiskit>=0.44->qiskit_algorithms) (6.0.0)\n",
      "Requirement already satisfied: mpmath>=0.19 in c:\\users\\student.desktop-ag6coqs\\appdata\\roaming\\python\\python311\\site-packages (from sympy>=1.3->qiskit>=0.44->qiskit_algorithms) (1.3.0)\n",
      "Note: you may need to restart the kernel to use updated packages.\n"
     ]
    },
    {
     "name": "stderr",
     "output_type": "stream",
     "text": [
      "\n",
      "[notice] A new release of pip available: 22.3.1 -> 24.0\n",
      "[notice] To update, run: python.exe -m pip install --upgrade pip\n"
     ]
    }
   ],
   "source": [
    "pip install qiskit_algorithms"
   ]
  },
  {
   "cell_type": "code",
   "execution_count": 3,
   "id": "4c27398d-94bf-4831-8879-6657154545a9",
   "metadata": {},
   "outputs": [
    {
     "name": "stdout",
     "output_type": "stream",
     "text": [
      "Defaulting to user installation because normal site-packages is not writeable\n",
      "Requirement already satisfied: qiskit_machine_learning in c:\\users\\student.desktop-ag6coqs\\appdata\\roaming\\python\\python311\\site-packages (0.7.2)\n",
      "Requirement already satisfied: qiskit>=0.44 in c:\\users\\student.desktop-ag6coqs\\appdata\\roaming\\python\\python311\\site-packages (from qiskit_machine_learning) (1.0.2)\n",
      "Requirement already satisfied: qiskit-algorithms>=0.2.0 in c:\\users\\student.desktop-ag6coqs\\appdata\\roaming\\python\\python311\\site-packages (from qiskit_machine_learning) (0.3.0)\n",
      "Requirement already satisfied: scipy>=1.4 in c:\\program files\\python311\\lib\\site-packages (from qiskit_machine_learning) (1.11.2)\n",
      "Requirement already satisfied: numpy>=1.17 in c:\\program files\\python311\\lib\\site-packages (from qiskit_machine_learning) (1.25.2)\n",
      "Requirement already satisfied: psutil>=5 in c:\\users\\student.desktop-ag6coqs\\appdata\\roaming\\python\\python311\\site-packages (from qiskit_machine_learning) (5.9.8)\n",
      "Requirement already satisfied: scikit-learn>=1.2.0 in c:\\users\\student.desktop-ag6coqs\\appdata\\roaming\\python\\python311\\site-packages (from qiskit_machine_learning) (1.4.2)\n",
      "Requirement already satisfied: fastdtw in c:\\users\\student.desktop-ag6coqs\\appdata\\roaming\\python\\python311\\site-packages (from qiskit_machine_learning) (0.3.4)\n",
      "Requirement already satisfied: setuptools>=40.1.0 in c:\\program files\\python311\\lib\\site-packages (from qiskit_machine_learning) (65.5.0)\n",
      "Requirement already satisfied: dill>=0.3.4 in c:\\users\\student.desktop-ag6coqs\\appdata\\roaming\\python\\python311\\site-packages (from qiskit_machine_learning) (0.3.8)\n",
      "Requirement already satisfied: rustworkx>=0.14.0 in c:\\users\\student.desktop-ag6coqs\\appdata\\roaming\\python\\python311\\site-packages (from qiskit>=0.44->qiskit_machine_learning) (0.14.2)\n",
      "Requirement already satisfied: sympy>=1.3 in c:\\users\\student.desktop-ag6coqs\\appdata\\roaming\\python\\python311\\site-packages (from qiskit>=0.44->qiskit_machine_learning) (1.12)\n",
      "Requirement already satisfied: python-dateutil>=2.8.0 in c:\\users\\student.desktop-ag6coqs\\appdata\\roaming\\python\\python311\\site-packages (from qiskit>=0.44->qiskit_machine_learning) (2.9.0.post0)\n",
      "Requirement already satisfied: stevedore>=3.0.0 in c:\\users\\student.desktop-ag6coqs\\appdata\\roaming\\python\\python311\\site-packages (from qiskit>=0.44->qiskit_machine_learning) (5.2.0)\n",
      "Requirement already satisfied: typing-extensions in c:\\users\\student.desktop-ag6coqs\\appdata\\roaming\\python\\python311\\site-packages (from qiskit>=0.44->qiskit_machine_learning) (4.11.0)\n",
      "Requirement already satisfied: symengine>=0.11 in c:\\users\\student.desktop-ag6coqs\\appdata\\roaming\\python\\python311\\site-packages (from qiskit>=0.44->qiskit_machine_learning) (0.11.0)\n",
      "Requirement already satisfied: joblib>=1.2.0 in c:\\program files\\python311\\lib\\site-packages (from scikit-learn>=1.2.0->qiskit_machine_learning) (1.3.2)\n",
      "Requirement already satisfied: threadpoolctl>=2.0.0 in c:\\program files\\python311\\lib\\site-packages (from scikit-learn>=1.2.0->qiskit_machine_learning) (3.2.0)\n",
      "Requirement already satisfied: six>=1.5 in c:\\users\\student.desktop-ag6coqs\\appdata\\roaming\\python\\python311\\site-packages (from python-dateutil>=2.8.0->qiskit>=0.44->qiskit_machine_learning) (1.16.0)\n",
      "Requirement already satisfied: pbr!=2.1.0,>=2.0.0 in c:\\users\\student.desktop-ag6coqs\\appdata\\roaming\\python\\python311\\site-packages (from stevedore>=3.0.0->qiskit>=0.44->qiskit_machine_learning) (6.0.0)\n",
      "Requirement already satisfied: mpmath>=0.19 in c:\\users\\student.desktop-ag6coqs\\appdata\\roaming\\python\\python311\\site-packages (from sympy>=1.3->qiskit>=0.44->qiskit_machine_learning) (1.3.0)\n",
      "Note: you may need to restart the kernel to use updated packages.\n"
     ]
    },
    {
     "name": "stderr",
     "output_type": "stream",
     "text": [
      "\n",
      "[notice] A new release of pip available: 22.3.1 -> 24.0\n",
      "[notice] To update, run: python.exe -m pip install --upgrade pip\n"
     ]
    }
   ],
   "source": [
    "pip install qiskit_machine_learning"
   ]
  },
  {
   "cell_type": "code",
   "execution_count": 4,
   "id": "01757572-d520-4932-a23c-e97f8ecaf036",
   "metadata": {},
   "outputs": [],
   "source": [
    "%matplotlib inline"
   ]
  },
  {
   "cell_type": "code",
   "execution_count": 5,
   "id": "c87eabf3-5b93-49bc-b7de-7c35ac422945",
   "metadata": {},
   "outputs": [],
   "source": [
    "import pandas as pd\n",
    "import numpy as np\n",
    "from sklearn.model_selection import train_test_split\n",
    "from sklearn.svm import SVC\n",
    "from sklearn.metrics import classification_report, confusion_matrix\n",
    "import matplotlib.pyplot as plt\n",
    "import seaborn as sns"
   ]
  },
  {
   "cell_type": "code",
   "execution_count": 6,
   "id": "a1927a5f-65a0-4eb6-8f5a-503f8688b886",
   "metadata": {},
   "outputs": [],
   "source": [
    "df_iris = pd.read_csv('iris.csv')"
   ]
  },
  {
   "cell_type": "code",
   "execution_count": 7,
   "id": "777fe91d-3882-4e6d-8ed5-af4069868e05",
   "metadata": {},
   "outputs": [],
   "source": [
    "iris_data = pd.DataFrame(df_iris, columns=['SepalLengthCm', 'SepalWidthCm', 'PetalLengthCm', 'PetalWidthCm'])\n",
    "iris_target = pd.DataFrame(df_iris, columns=['Species'])"
   ]
  },
  {
   "cell_type": "code",
   "execution_count": 12,
   "id": "d3a5248c",
   "metadata": {},
   "outputs": [
    {
     "name": "stdout",
     "output_type": "stream",
     "text": [
      "      Id  SepalLengthCm  SepalWidthCm  PetalLengthCm  PetalWidthCm  \\\n",
      "0      1            5.1           3.5            1.4           0.2   \n",
      "1      2            4.9           3.0            1.4           0.2   \n",
      "2      3            4.7           3.2            1.3           0.2   \n",
      "3      4            4.6           3.1            1.5           0.2   \n",
      "4      5            5.0           3.6            1.4           0.2   \n",
      "..   ...            ...           ...            ...           ...   \n",
      "145  146            6.7           3.0            5.2           2.3   \n",
      "146  147            6.3           2.5            5.0           1.9   \n",
      "147  148            6.5           3.0            5.2           2.0   \n",
      "148  149            6.2           3.4            5.4           2.3   \n",
      "149  150            5.9           3.0            5.1           1.8   \n",
      "\n",
      "            Species  \n",
      "0       Iris-setosa  \n",
      "1       Iris-setosa  \n",
      "2       Iris-setosa  \n",
      "3       Iris-setosa  \n",
      "4       Iris-setosa  \n",
      "..              ...  \n",
      "145  Iris-virginica  \n",
      "146  Iris-virginica  \n",
      "147  Iris-virginica  \n",
      "148  Iris-virginica  \n",
      "149  Iris-virginica  \n",
      "\n",
      "[150 rows x 6 columns]\n"
     ]
    }
   ],
   "source": [
    "print(df_iris)"
   ]
  },
  {
   "cell_type": "code",
   "execution_count": null,
   "id": "2ae9610b",
   "metadata": {},
   "outputs": [],
   "source": []
  },
  {
   "cell_type": "code",
   "execution_count": 8,
   "id": "664b2914-cc3c-46d2-86dd-b5c5940be0f9",
   "metadata": {},
   "outputs": [
    {
     "name": "stdout",
     "output_type": "stream",
     "text": [
      "Confusion Matrix\n",
      "[[14  0  0]\n",
      " [ 0 17  2]\n",
      " [ 0  1 11]]\n",
      "Classification Report\n",
      "                 precision    recall  f1-score   support\n",
      "\n",
      "    Iris-setosa       1.00      1.00      1.00        14\n",
      "Iris-versicolor       0.94      0.89      0.92        19\n",
      " Iris-virginica       0.85      0.92      0.88        12\n",
      "\n",
      "       accuracy                           0.93        45\n",
      "      macro avg       0.93      0.94      0.93        45\n",
      "   weighted avg       0.94      0.93      0.93        45\n",
      "\n",
      "Predict the flower type for data Sepal (4.4, 4.4) and Petal (4.4, 4.4)\n"
     ]
    },
    {
     "data": {
      "text/plain": [
       "array(['Iris-virginica'], dtype=object)"
      ]
     },
     "execution_count": 8,
     "metadata": {},
     "output_type": "execute_result"
    }
   ],
   "source": [
    "x = iris_data[['SepalLengthCm', 'SepalWidthCm', 'PetalLengthCm', 'PetalWidthCm']]\n",
    "y = iris_target[[\"Species\"]]\n",
    "x_train,x_test, y_train, y_test=train_test_split(x,y,test_size=0.30)\n",
    "C = 1.0\n",
    "csvm_model = SVC()\n",
    "csvm_model.fit(x_train.values, y_train.values.ravel())\n",
    "csvm_pred = csvm_model.predict(x_test.values)\n",
    "print(\"Confusion Matrix\")\n",
    "print(confusion_matrix(y_test, csvm_pred))\n",
    "print(\"Classification Report\")\n",
    "print(classification_report(y_test, csvm_pred))\n",
    "print(\"Predict the flower type for data Sepal (4.4, 4.4) and Petal (4.4, 4.4)\")\n",
    "csvm_model.predict([[4.4,4.4,4.4,4.4]])"
   ]
  },
  {
   "cell_type": "code",
   "execution_count": 39,
   "id": "73b36480",
   "metadata": {},
   "outputs": [
    {
     "name": "stdout",
     "output_type": "stream",
     "text": [
      "Confusion Matrix\n",
      "[[12  0  0]\n",
      " [ 0 11  0]\n",
      " [ 0  5 17]]\n",
      "Classification Report\n",
      "                 precision    recall  f1-score   support\n",
      "\n",
      "    Iris-setosa       1.00      1.00      1.00        12\n",
      "Iris-versicolor       0.69      1.00      0.81        11\n",
      " Iris-virginica       1.00      0.77      0.87        22\n",
      "\n",
      "       accuracy                           0.89        45\n",
      "      macro avg       0.90      0.92      0.90        45\n",
      "   weighted avg       0.92      0.89      0.89        45\n",
      "\n",
      "Predict the flower type for data Sepal (4.4, 4.4) and Petal (4.4, 4.4)\n"
     ]
    },
    {
     "data": {
      "text/plain": [
       "array(['Iris-setosa'], dtype=object)"
      ]
     },
     "execution_count": 39,
     "metadata": {},
     "output_type": "execute_result"
    }
   ],
   "source": [
    "x = iris_data[['SepalLengthCm', 'SepalWidthCm', 'PetalLengthCm', 'PetalWidthCm']]\n",
    "y = iris_target[[\"Species\"]]\n",
    "x_train,x_test, y_train, y_test=train_test_split(x,y,test_size=0.30)\n",
    "C = 1.0\n",
    "csvm_model = SVC()\n",
    "csvm_model.fit(x_train.values, y_train.values.ravel())\n",
    "csvm_pred = csvm_model.predict(x_test.values)\n",
    "print(\"Confusion Matrix\")\n",
    "print(confusion_matrix(y_test, csvm_pred))\n",
    "print(\"Classification Report\")\n",
    "print(classification_report(y_test, csvm_pred))\n",
    "print(\"Predict the flower type for data Sepal (4.4, 4.4) and Petal (4.4, 4.4)\")\n",
    "csvm_model.predict([[5.1,3.5,1.4,0.2]])"
   ]
  },
  {
   "cell_type": "code",
   "execution_count": 17,
   "id": "c0badf50",
   "metadata": {},
   "outputs": [
    {
     "data": {
      "text/plain": [
       "array(['Iris-virginica', 'Iris-versicolor', 'Iris-setosa',\n",
       "       'Iris-virginica', 'Iris-virginica', 'Iris-virginica',\n",
       "       'Iris-versicolor', 'Iris-virginica', 'Iris-setosa',\n",
       "       'Iris-virginica', 'Iris-virginica', 'Iris-setosa',\n",
       "       'Iris-virginica', 'Iris-virginica', 'Iris-setosa',\n",
       "       'Iris-versicolor', 'Iris-virginica', 'Iris-setosa', 'Iris-setosa',\n",
       "       'Iris-virginica', 'Iris-virginica', 'Iris-setosa',\n",
       "       'Iris-virginica', 'Iris-versicolor', 'Iris-setosa', 'Iris-setosa',\n",
       "       'Iris-virginica', 'Iris-virginica', 'Iris-versicolor',\n",
       "       'Iris-versicolor', 'Iris-virginica', 'Iris-virginica',\n",
       "       'Iris-setosa', 'Iris-virginica', 'Iris-versicolor', 'Iris-setosa',\n",
       "       'Iris-setosa', 'Iris-versicolor', 'Iris-versicolor', 'Iris-setosa',\n",
       "       'Iris-setosa', 'Iris-versicolor', 'Iris-versicolor',\n",
       "       'Iris-virginica', 'Iris-virginica', 'Iris-virginica',\n",
       "       'Iris-setosa', 'Iris-versicolor', 'Iris-setosa', 'Iris-setosa',\n",
       "       'Iris-versicolor', 'Iris-virginica', 'Iris-virginica',\n",
       "       'Iris-setosa', 'Iris-versicolor', 'Iris-versicolor',\n",
       "       'Iris-versicolor', 'Iris-setosa', 'Iris-virginica',\n",
       "       'Iris-versicolor', 'Iris-versicolor', 'Iris-setosa',\n",
       "       'Iris-versicolor', 'Iris-setosa', 'Iris-versicolor', 'Iris-setosa',\n",
       "       'Iris-versicolor', 'Iris-setosa', 'Iris-virginica', 'Iris-setosa',\n",
       "       'Iris-virginica', 'Iris-setosa', 'Iris-virginica', 'Iris-setosa',\n",
       "       'Iris-versicolor', 'Iris-virginica', 'Iris-setosa',\n",
       "       'Iris-versicolor', 'Iris-virginica', 'Iris-virginica',\n",
       "       'Iris-setosa', 'Iris-setosa', 'Iris-versicolor', 'Iris-versicolor',\n",
       "       'Iris-setosa', 'Iris-versicolor', 'Iris-versicolor',\n",
       "       'Iris-versicolor', 'Iris-virginica', 'Iris-versicolor',\n",
       "       'Iris-setosa', 'Iris-setosa', 'Iris-virginica', 'Iris-virginica',\n",
       "       'Iris-versicolor', 'Iris-virginica', 'Iris-setosa',\n",
       "       'Iris-virginica', 'Iris-setosa', 'Iris-virginica', 'Iris-setosa',\n",
       "       'Iris-versicolor', 'Iris-virginica', 'Iris-virginica',\n",
       "       'Iris-setosa'], dtype=object)"
      ]
     },
     "execution_count": 17,
     "metadata": {},
     "output_type": "execute_result"
    }
   ],
   "source": [
    "y_train.values.ravel()"
   ]
  },
  {
   "cell_type": "code",
   "execution_count": 9,
   "id": "a74aa38b-6289-451e-b3f8-56f411727c4c",
   "metadata": {},
   "outputs": [],
   "source": [
    "from qiskit.circuit.library import ZZFeatureMap\n",
    "from qiskit.primitives import Sampler\n",
    "from qiskit_algorithms.state_fidelities import ComputeUncompute\n",
    "from qiskit_machine_learning.kernels import FidelityQuantumKernel\n",
    "adhoc_dimension=2\n",
    "adhoc_feature_map = ZZFeatureMap(feature_dimension=adhoc_dimension, reps=2, entanglement=\"linear\") \n",
    "#classical data is encoded into qubit angles\n",
    "sampler = Sampler()\n",
    "fidelity = ComputeUncompute(sampler=sampler)\n",
    "adhoc_kernel = FidelityQuantumKernel(fidelity=fidelity, feature_map=adhoc_feature_map)"
   ]
  },
  {
   "cell_type": "code",
   "execution_count": 33,
   "id": "3b6ff2f4",
   "metadata": {},
   "outputs": [
    {
     "data": {
      "text/plain": [
       "['__abstractmethods__',\n",
       " '__and__',\n",
       " '__class__',\n",
       " '__deepcopy__',\n",
       " '__delattr__',\n",
       " '__dict__',\n",
       " '__dir__',\n",
       " '__doc__',\n",
       " '__eq__',\n",
       " '__format__',\n",
       " '__ge__',\n",
       " '__getattribute__',\n",
       " '__getitem__',\n",
       " '__getstate__',\n",
       " '__gt__',\n",
       " '__hash__',\n",
       " '__iand__',\n",
       " '__init__',\n",
       " '__init_subclass__',\n",
       " '__ixor__',\n",
       " '__le__',\n",
       " '__len__',\n",
       " '__lt__',\n",
       " '__module__',\n",
       " '__ne__',\n",
       " '__new__',\n",
       " '__reduce__',\n",
       " '__reduce_ex__',\n",
       " '__repr__',\n",
       " '__setattr__',\n",
       " '__sizeof__',\n",
       " '__slotnames__',\n",
       " '__slots__',\n",
       " '__str__',\n",
       " '__subclasshook__',\n",
       " '__weakref__',\n",
       " '__xor__',\n",
       " '_abc_impl',\n",
       " '_alpha',\n",
       " '_ancillas',\n",
       " '_append',\n",
       " '_appended_blocks',\n",
       " '_appended_entanglement',\n",
       " '_base_name',\n",
       " '_bounds',\n",
       " '_build',\n",
       " '_build_additional_layers',\n",
       " '_build_entanglement_layer',\n",
       " '_build_rotation_layer',\n",
       " '_builder_api',\n",
       " '_calibrations',\n",
       " '_check_configuration',\n",
       " '_check_dups',\n",
       " '_clbit_indices',\n",
       " '_control_flow_scopes',\n",
       " '_convert_to_block',\n",
       " '_create_creg',\n",
       " '_create_qreg',\n",
       " '_cregs',\n",
       " '_current_scope',\n",
       " '_data',\n",
       " '_data_map_func',\n",
       " '_entanglement',\n",
       " '_entanglement_blocks',\n",
       " '_entangler_maps',\n",
       " '_extract_data_for_rotation',\n",
       " '_flatten',\n",
       " '_global_phase',\n",
       " '_increment_instances',\n",
       " '_initial_state',\n",
       " '_initial_state_circuit',\n",
       " '_insert_barriers',\n",
       " '_invalidate',\n",
       " '_is_built',\n",
       " '_is_initialized',\n",
       " '_layout',\n",
       " '_metadata',\n",
       " '_name_update',\n",
       " '_num_qubits',\n",
       " '_op_start_times',\n",
       " '_ordered_parameters',\n",
       " '_overwrite_block_parameters',\n",
       " '_parameter_generator',\n",
       " '_parameter_table',\n",
       " '_parameterize_block',\n",
       " '_parameters',\n",
       " '_paulis',\n",
       " '_peek_previous_instruction_in_scope',\n",
       " '_pop_previous_instruction_in_scope',\n",
       " '_pop_scope',\n",
       " '_prepended_blocks',\n",
       " '_prepended_entanglement',\n",
       " '_push_scope',\n",
       " '_qregs',\n",
       " '_qubit_indices',\n",
       " '_reps',\n",
       " '_rotation_blocks',\n",
       " '_skip_final_rotation_layer',\n",
       " '_skip_unentangled_qubits',\n",
       " '_track_operation',\n",
       " '_unroll_param_dict',\n",
       " '_unsorted_parameters',\n",
       " '_update_parameter_table',\n",
       " '_update_parameter_table_on_instruction_removal',\n",
       " 'add_bits',\n",
       " 'add_calibration',\n",
       " 'add_layer',\n",
       " 'add_register',\n",
       " 'alpha',\n",
       " 'ancillas',\n",
       " 'append',\n",
       " 'assign_parameters',\n",
       " 'barrier',\n",
       " 'break_loop',\n",
       " 'calibrations',\n",
       " 'cast',\n",
       " 'cbit_argument_conversion',\n",
       " 'ccx',\n",
       " 'ccz',\n",
       " 'ch',\n",
       " 'clbits',\n",
       " 'clear',\n",
       " 'cls_instances',\n",
       " 'cls_prefix',\n",
       " 'compose',\n",
       " 'continue_loop',\n",
       " 'control',\n",
       " 'copy',\n",
       " 'copy_empty_like',\n",
       " 'count_ops',\n",
       " 'cp',\n",
       " 'cregs',\n",
       " 'crx',\n",
       " 'cry',\n",
       " 'crz',\n",
       " 'cs',\n",
       " 'csdg',\n",
       " 'cswap',\n",
       " 'csx',\n",
       " 'cu',\n",
       " 'cx',\n",
       " 'cy',\n",
       " 'cz',\n",
       " 'data',\n",
       " 'dcx',\n",
       " 'decompose',\n",
       " 'delay',\n",
       " 'depth',\n",
       " 'draw',\n",
       " 'duration',\n",
       " 'ecr',\n",
       " 'entanglement',\n",
       " 'entanglement_blocks',\n",
       " 'feature_dimension',\n",
       " 'find_bit',\n",
       " 'flatten',\n",
       " 'for_loop',\n",
       " 'from_instructions',\n",
       " 'from_qasm_file',\n",
       " 'from_qasm_str',\n",
       " 'get_entangler_map',\n",
       " 'get_instructions',\n",
       " 'get_parameter',\n",
       " 'get_unentangled_qubits',\n",
       " 'global_phase',\n",
       " 'h',\n",
       " 'has_calibration_for',\n",
       " 'has_parameter',\n",
       " 'has_register',\n",
       " 'id',\n",
       " 'if_else',\n",
       " 'if_test',\n",
       " 'initial_state',\n",
       " 'initialize',\n",
       " 'insert_barriers',\n",
       " 'instances',\n",
       " 'inverse',\n",
       " 'iswap',\n",
       " 'layout',\n",
       " 'mcp',\n",
       " 'mcrx',\n",
       " 'mcry',\n",
       " 'mcrz',\n",
       " 'mcx',\n",
       " 'measure',\n",
       " 'measure_active',\n",
       " 'measure_all',\n",
       " 'metadata',\n",
       " 'ms',\n",
       " 'name',\n",
       " 'num_ancillas',\n",
       " 'num_clbits',\n",
       " 'num_connected_components',\n",
       " 'num_layers',\n",
       " 'num_nonlocal_gates',\n",
       " 'num_parameters',\n",
       " 'num_parameters_settable',\n",
       " 'num_qubits',\n",
       " 'num_tensor_factors',\n",
       " 'num_unitary_factors',\n",
       " 'op_start_times',\n",
       " 'ordered_parameters',\n",
       " 'p',\n",
       " 'parameter_bounds',\n",
       " 'parameters',\n",
       " 'pauli',\n",
       " 'pauli_block',\n",
       " 'pauli_evolution',\n",
       " 'paulis',\n",
       " 'power',\n",
       " 'preferred_init_points',\n",
       " 'prefix',\n",
       " 'prepare_state',\n",
       " 'print_settings',\n",
       " 'qbit_argument_conversion',\n",
       " 'qregs',\n",
       " 'qubit_duration',\n",
       " 'qubit_start_time',\n",
       " 'qubit_stop_time',\n",
       " 'qubits',\n",
       " 'r',\n",
       " 'rcccx',\n",
       " 'rccx',\n",
       " 'remove_final_measurements',\n",
       " 'repeat',\n",
       " 'reps',\n",
       " 'reset',\n",
       " 'reverse_bits',\n",
       " 'reverse_ops',\n",
       " 'rotation_blocks',\n",
       " 'rv',\n",
       " 'rx',\n",
       " 'rxx',\n",
       " 'ry',\n",
       " 'ryy',\n",
       " 'rz',\n",
       " 'rzx',\n",
       " 'rzz',\n",
       " 's',\n",
       " 'sdg',\n",
       " 'size',\n",
       " 'swap',\n",
       " 'switch',\n",
       " 'sx',\n",
       " 'sxdg',\n",
       " 't',\n",
       " 'tdg',\n",
       " 'tensor',\n",
       " 'to_gate',\n",
       " 'to_instruction',\n",
       " 'u',\n",
       " 'unit',\n",
       " 'unitary',\n",
       " 'while_loop',\n",
       " 'width',\n",
       " 'x',\n",
       " 'y',\n",
       " 'z']"
      ]
     },
     "execution_count": 33,
     "metadata": {},
     "output_type": "execute_result"
    }
   ],
   "source": [
    "dir(adhoc_feature_map)"
   ]
  },
  {
   "cell_type": "code",
   "execution_count": 34,
   "id": "f04eb5b7",
   "metadata": {},
   "outputs": [
    {
     "data": {
      "text/plain": [
       "<bound method QuantumCircuit.pauli of <qiskit.circuit.library.data_preparation.zz_feature_map.ZZFeatureMap object at 0x000002A2CBE1B310>>"
      ]
     },
     "execution_count": 34,
     "metadata": {},
     "output_type": "execute_result"
    }
   ],
   "source": [
    "adhoc_feature_map.pauli"
   ]
  },
  {
   "cell_type": "code",
   "execution_count": 31,
   "id": "65a4ee9c-8717-4b3b-930b-e1b86db37312",
   "metadata": {},
   "outputs": [
    {
     "name": "stdout",
     "output_type": "stream",
     "text": [
      "Confusion Matrix\n",
      "[[11  1  2]\n",
      " [ 1 14  4]\n",
      " [ 2  1  9]]\n",
      "Classification Report\n",
      "                 precision    recall  f1-score   support\n",
      "\n",
      "    Iris-setosa       0.79      0.79      0.79        14\n",
      "Iris-versicolor       0.88      0.74      0.80        19\n",
      " Iris-virginica       0.60      0.75      0.67        12\n",
      "\n",
      "       accuracy                           0.76        45\n",
      "      macro avg       0.75      0.76      0.75        45\n",
      "   weighted avg       0.77      0.76      0.76        45\n",
      "\n",
      "Predict the flower type for data Sepal (4.4, 4.4) and Petal (4.4, 4.4)\n"
     ]
    },
    {
     "data": {
      "text/plain": [
       "array(['Iris-versicolor'], dtype=object)"
      ]
     },
     "execution_count": 31,
     "metadata": {},
     "output_type": "execute_result"
    }
   ],
   "source": [
    "from qiskit_machine_learning.algorithms import QSVC\n",
    "\n",
    "qsvm_model = QSVC(quantum_kernel=adhoc_kernel)\n",
    "qsvm_model.fit(x_train, y_train.values.ravel())\n",
    "qsvm_pred = qsvm_model.predict(x_test)\n",
    "print(\"Confusion Matrix\")\n",
    "print(confusion_matrix(y_test, qsvm_pred))\n",
    "print(\"Classification Report\")\n",
    "print(classification_report(y_test, qsvm_pred))\n",
    "print(\"Predict the flower type for data Sepal (4.4, 4.4) and Petal (4.4, 4.4)\")\n",
    "qsvm_model.predict([[4.4,4.4,4.4,4.4]])"
   ]
  },
  {
   "cell_type": "code",
   "execution_count": 41,
   "id": "00a36d33",
   "metadata": {},
   "outputs": [
    {
     "name": "stdout",
     "output_type": "stream",
     "text": [
      "Confusion Matrix\n",
      "[[11  1  0]\n",
      " [ 0 10  1]\n",
      " [ 3  6 13]]\n",
      "Classification Report\n",
      "                 precision    recall  f1-score   support\n",
      "\n",
      "    Iris-setosa       0.79      0.92      0.85        12\n",
      "Iris-versicolor       0.59      0.91      0.71        11\n",
      " Iris-virginica       0.93      0.59      0.72        22\n",
      "\n",
      "       accuracy                           0.76        45\n",
      "      macro avg       0.77      0.81      0.76        45\n",
      "   weighted avg       0.81      0.76      0.75        45\n",
      "\n",
      "Predict the flower type for data Sepal (4.4, 4.4) and Petal (4.4, 4.4)\n"
     ]
    },
    {
     "data": {
      "text/plain": [
       "array(['Iris-setosa'], dtype=object)"
      ]
     },
     "execution_count": 41,
     "metadata": {},
     "output_type": "execute_result"
    }
   ],
   "source": [
    "from qiskit_machine_learning.algorithms import QSVC\n",
    "\n",
    "qsvm_model = QSVC(quantum_kernel=adhoc_kernel)\n",
    "qsvm_model.fit(x_train, y_train.values.ravel())\n",
    "qsvm_pred = qsvm_model.predict(x_test)\n",
    "print(\"Confusion Matrix\")\n",
    "print(confusion_matrix(y_test, qsvm_pred))\n",
    "print(\"Classification Report\")\n",
    "print(classification_report(y_test, qsvm_pred))\n",
    "print(\"Predict the flower type for data Sepal (4.4, 4.4) and Petal (4.4, 4.4)\")\n",
    "qsvm_model.predict([[5.1,3.5,1.4,0.2]])"
   ]
  }
 ],
 "metadata": {
  "kernelspec": {
   "display_name": "Python 3 (ipykernel)",
   "language": "python",
   "name": "python3"
  },
  "language_info": {
   "codemirror_mode": {
    "name": "ipython",
    "version": 3
   },
   "file_extension": ".py",
   "mimetype": "text/x-python",
   "name": "python",
   "nbconvert_exporter": "python",
   "pygments_lexer": "ipython3",
   "version": "3.11.3"
  }
 },
 "nbformat": 4,
 "nbformat_minor": 5
}
